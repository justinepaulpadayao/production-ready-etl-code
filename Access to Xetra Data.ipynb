{
 "cells": [
  {
   "cell_type": "code",
   "execution_count": 53,
   "source": [
    "import boto3\n",
    "import pandas as pd\n",
    "from io import StringIO, BytesIO\n",
    "from datetime import datetime, timedelta"
   ],
   "outputs": [],
   "metadata": {}
  },
  {
   "cell_type": "code",
   "execution_count": 54,
   "source": [
    "arg_date = \"2021-08-26\"\n",
    "src_format = \"%Y-%m-%d\"\n",
    "src_bucket = \"deutsche-boerse-xetra-pds\"\n",
    "trg_bucket = 'xetra-daily'\n",
    "columns = ['ISIN','Date', 'Time', 'StartPrice', 'MaxPrice', 'MinPrice',\n",
    "       'EndPrice', 'TradedVolume']\n",
    "key = \"xetra_daily_report\" + datetime.today().strftime(\"%Y%m%d_%H%M%S\") + '.parquet'"
   ],
   "outputs": [],
   "metadata": {}
  },
  {
   "cell_type": "code",
   "execution_count": 55,
   "source": [
    "arg_date_dt = datetime.strptime(arg_date, src_format).date() - timedelta(days=1)"
   ],
   "outputs": [],
   "metadata": {}
  },
  {
   "cell_type": "code",
   "execution_count": 56,
   "source": [
    "arg_date_dt"
   ],
   "outputs": [
    {
     "output_type": "execute_result",
     "data": {
      "text/plain": [
       "datetime.date(2021, 8, 25)"
      ]
     },
     "metadata": {},
     "execution_count": 56
    }
   ],
   "metadata": {}
  },
  {
   "cell_type": "code",
   "execution_count": 57,
   "source": [
    "s3 = boto3.resource('s3')\n",
    "bucket = s3.Bucket(src_bucket)\n",
    "objects = [obj for obj in bucket.objects.all() if datetime.strptime(obj.key.split(\"/\")[0], src_format).date() >= arg_date_dt]"
   ],
   "outputs": [],
   "metadata": {}
  },
  {
   "cell_type": "code",
   "execution_count": 58,
   "source": [
    "objects"
   ],
   "outputs": [
    {
     "output_type": "execute_result",
     "data": {
      "text/plain": [
       "[s3.ObjectSummary(bucket_name='deutsche-boerse-xetra-pds', key='2021-08-25/2021-08-25_BINS_XETR00.csv'),\n",
       " s3.ObjectSummary(bucket_name='deutsche-boerse-xetra-pds', key='2021-08-25/2021-08-25_BINS_XETR01.csv'),\n",
       " s3.ObjectSummary(bucket_name='deutsche-boerse-xetra-pds', key='2021-08-25/2021-08-25_BINS_XETR02.csv'),\n",
       " s3.ObjectSummary(bucket_name='deutsche-boerse-xetra-pds', key='2021-08-25/2021-08-25_BINS_XETR03.csv'),\n",
       " s3.ObjectSummary(bucket_name='deutsche-boerse-xetra-pds', key='2021-08-25/2021-08-25_BINS_XETR04.csv'),\n",
       " s3.ObjectSummary(bucket_name='deutsche-boerse-xetra-pds', key='2021-08-25/2021-08-25_BINS_XETR05.csv'),\n",
       " s3.ObjectSummary(bucket_name='deutsche-boerse-xetra-pds', key='2021-08-25/2021-08-25_BINS_XETR06.csv'),\n",
       " s3.ObjectSummary(bucket_name='deutsche-boerse-xetra-pds', key='2021-08-25/2021-08-25_BINS_XETR07.csv'),\n",
       " s3.ObjectSummary(bucket_name='deutsche-boerse-xetra-pds', key='2021-08-25/2021-08-25_BINS_XETR08.csv'),\n",
       " s3.ObjectSummary(bucket_name='deutsche-boerse-xetra-pds', key='2021-08-25/2021-08-25_BINS_XETR09.csv'),\n",
       " s3.ObjectSummary(bucket_name='deutsche-boerse-xetra-pds', key='2021-08-25/2021-08-25_BINS_XETR10.csv'),\n",
       " s3.ObjectSummary(bucket_name='deutsche-boerse-xetra-pds', key='2021-08-25/2021-08-25_BINS_XETR11.csv'),\n",
       " s3.ObjectSummary(bucket_name='deutsche-boerse-xetra-pds', key='2021-08-25/2021-08-25_BINS_XETR12.csv'),\n",
       " s3.ObjectSummary(bucket_name='deutsche-boerse-xetra-pds', key='2021-08-25/2021-08-25_BINS_XETR13.csv'),\n",
       " s3.ObjectSummary(bucket_name='deutsche-boerse-xetra-pds', key='2021-08-25/2021-08-25_BINS_XETR14.csv'),\n",
       " s3.ObjectSummary(bucket_name='deutsche-boerse-xetra-pds', key='2021-08-25/2021-08-25_BINS_XETR15.csv'),\n",
       " s3.ObjectSummary(bucket_name='deutsche-boerse-xetra-pds', key='2021-08-25/2021-08-25_BINS_XETR16.csv'),\n",
       " s3.ObjectSummary(bucket_name='deutsche-boerse-xetra-pds', key='2021-08-25/2021-08-25_BINS_XETR17.csv'),\n",
       " s3.ObjectSummary(bucket_name='deutsche-boerse-xetra-pds', key='2021-08-25/2021-08-25_BINS_XETR18.csv'),\n",
       " s3.ObjectSummary(bucket_name='deutsche-boerse-xetra-pds', key='2021-08-25/2021-08-25_BINS_XETR19.csv'),\n",
       " s3.ObjectSummary(bucket_name='deutsche-boerse-xetra-pds', key='2021-08-25/2021-08-25_BINS_XETR20.csv'),\n",
       " s3.ObjectSummary(bucket_name='deutsche-boerse-xetra-pds', key='2021-08-25/2021-08-25_BINS_XETR21.csv'),\n",
       " s3.ObjectSummary(bucket_name='deutsche-boerse-xetra-pds', key='2021-08-25/2021-08-25_BINS_XETR22.csv'),\n",
       " s3.ObjectSummary(bucket_name='deutsche-boerse-xetra-pds', key='2021-08-25/2021-08-25_BINS_XETR23.csv'),\n",
       " s3.ObjectSummary(bucket_name='deutsche-boerse-xetra-pds', key='2021-08-26/2021-08-26_BINS_XETR00.csv'),\n",
       " s3.ObjectSummary(bucket_name='deutsche-boerse-xetra-pds', key='2021-08-26/2021-08-26_BINS_XETR01.csv'),\n",
       " s3.ObjectSummary(bucket_name='deutsche-boerse-xetra-pds', key='2021-08-26/2021-08-26_BINS_XETR02.csv'),\n",
       " s3.ObjectSummary(bucket_name='deutsche-boerse-xetra-pds', key='2021-08-26/2021-08-26_BINS_XETR03.csv'),\n",
       " s3.ObjectSummary(bucket_name='deutsche-boerse-xetra-pds', key='2021-08-26/2021-08-26_BINS_XETR04.csv'),\n",
       " s3.ObjectSummary(bucket_name='deutsche-boerse-xetra-pds', key='2021-08-26/2021-08-26_BINS_XETR05.csv'),\n",
       " s3.ObjectSummary(bucket_name='deutsche-boerse-xetra-pds', key='2021-08-26/2021-08-26_BINS_XETR06.csv'),\n",
       " s3.ObjectSummary(bucket_name='deutsche-boerse-xetra-pds', key='2021-08-26/2021-08-26_BINS_XETR07.csv'),\n",
       " s3.ObjectSummary(bucket_name='deutsche-boerse-xetra-pds', key='2021-08-26/2021-08-26_BINS_XETR08.csv'),\n",
       " s3.ObjectSummary(bucket_name='deutsche-boerse-xetra-pds', key='2021-08-26/2021-08-26_BINS_XETR09.csv'),\n",
       " s3.ObjectSummary(bucket_name='deutsche-boerse-xetra-pds', key='2021-08-26/2021-08-26_BINS_XETR10.csv'),\n",
       " s3.ObjectSummary(bucket_name='deutsche-boerse-xetra-pds', key='2021-08-26/2021-08-26_BINS_XETR11.csv'),\n",
       " s3.ObjectSummary(bucket_name='deutsche-boerse-xetra-pds', key='2021-08-26/2021-08-26_BINS_XETR12.csv'),\n",
       " s3.ObjectSummary(bucket_name='deutsche-boerse-xetra-pds', key='2021-08-26/2021-08-26_BINS_XETR13.csv'),\n",
       " s3.ObjectSummary(bucket_name='deutsche-boerse-xetra-pds', key='2021-08-26/2021-08-26_BINS_XETR14.csv'),\n",
       " s3.ObjectSummary(bucket_name='deutsche-boerse-xetra-pds', key='2021-08-26/2021-08-26_BINS_XETR15.csv'),\n",
       " s3.ObjectSummary(bucket_name='deutsche-boerse-xetra-pds', key='2021-08-26/2021-08-26_BINS_XETR16.csv'),\n",
       " s3.ObjectSummary(bucket_name='deutsche-boerse-xetra-pds', key='2021-08-26/2021-08-26_BINS_XETR17.csv'),\n",
       " s3.ObjectSummary(bucket_name='deutsche-boerse-xetra-pds', key='2021-08-26/2021-08-26_BINS_XETR18.csv'),\n",
       " s3.ObjectSummary(bucket_name='deutsche-boerse-xetra-pds', key='2021-08-26/2021-08-26_BINS_XETR19.csv'),\n",
       " s3.ObjectSummary(bucket_name='deutsche-boerse-xetra-pds', key='2021-08-26/2021-08-26_BINS_XETR20.csv'),\n",
       " s3.ObjectSummary(bucket_name='deutsche-boerse-xetra-pds', key='2021-08-26/2021-08-26_BINS_XETR21.csv'),\n",
       " s3.ObjectSummary(bucket_name='deutsche-boerse-xetra-pds', key='2021-08-26/2021-08-26_BINS_XETR22.csv'),\n",
       " s3.ObjectSummary(bucket_name='deutsche-boerse-xetra-pds', key='2021-08-26/2021-08-26_BINS_XETR23.csv'),\n",
       " s3.ObjectSummary(bucket_name='deutsche-boerse-xetra-pds', key='2021-08-27/2021-08-27_BINS_XETR00.csv'),\n",
       " s3.ObjectSummary(bucket_name='deutsche-boerse-xetra-pds', key='2021-08-27/2021-08-27_BINS_XETR01.csv'),\n",
       " s3.ObjectSummary(bucket_name='deutsche-boerse-xetra-pds', key='2021-08-27/2021-08-27_BINS_XETR02.csv'),\n",
       " s3.ObjectSummary(bucket_name='deutsche-boerse-xetra-pds', key='2021-08-27/2021-08-27_BINS_XETR03.csv'),\n",
       " s3.ObjectSummary(bucket_name='deutsche-boerse-xetra-pds', key='2021-08-27/2021-08-27_BINS_XETR04.csv'),\n",
       " s3.ObjectSummary(bucket_name='deutsche-boerse-xetra-pds', key='2021-08-27/2021-08-27_BINS_XETR05.csv'),\n",
       " s3.ObjectSummary(bucket_name='deutsche-boerse-xetra-pds', key='2021-08-27/2021-08-27_BINS_XETR06.csv'),\n",
       " s3.ObjectSummary(bucket_name='deutsche-boerse-xetra-pds', key='2021-08-27/2021-08-27_BINS_XETR07.csv'),\n",
       " s3.ObjectSummary(bucket_name='deutsche-boerse-xetra-pds', key='2021-08-27/2021-08-27_BINS_XETR08.csv'),\n",
       " s3.ObjectSummary(bucket_name='deutsche-boerse-xetra-pds', key='2021-08-27/2021-08-27_BINS_XETR09.csv'),\n",
       " s3.ObjectSummary(bucket_name='deutsche-boerse-xetra-pds', key='2021-08-27/2021-08-27_BINS_XETR10.csv'),\n",
       " s3.ObjectSummary(bucket_name='deutsche-boerse-xetra-pds', key='2021-08-27/2021-08-27_BINS_XETR11.csv'),\n",
       " s3.ObjectSummary(bucket_name='deutsche-boerse-xetra-pds', key='2021-08-27/2021-08-27_BINS_XETR12.csv'),\n",
       " s3.ObjectSummary(bucket_name='deutsche-boerse-xetra-pds', key='2021-08-27/2021-08-27_BINS_XETR13.csv'),\n",
       " s3.ObjectSummary(bucket_name='deutsche-boerse-xetra-pds', key='2021-08-27/2021-08-27_BINS_XETR14.csv'),\n",
       " s3.ObjectSummary(bucket_name='deutsche-boerse-xetra-pds', key='2021-08-27/2021-08-27_BINS_XETR15.csv'),\n",
       " s3.ObjectSummary(bucket_name='deutsche-boerse-xetra-pds', key='2021-08-27/2021-08-27_BINS_XETR16.csv'),\n",
       " s3.ObjectSummary(bucket_name='deutsche-boerse-xetra-pds', key='2021-08-27/2021-08-27_BINS_XETR17.csv'),\n",
       " s3.ObjectSummary(bucket_name='deutsche-boerse-xetra-pds', key='2021-08-27/2021-08-27_BINS_XETR18.csv'),\n",
       " s3.ObjectSummary(bucket_name='deutsche-boerse-xetra-pds', key='2021-08-27/2021-08-27_BINS_XETR19.csv'),\n",
       " s3.ObjectSummary(bucket_name='deutsche-boerse-xetra-pds', key='2021-08-27/2021-08-27_BINS_XETR20.csv'),\n",
       " s3.ObjectSummary(bucket_name='deutsche-boerse-xetra-pds', key='2021-08-27/2021-08-27_BINS_XETR21.csv'),\n",
       " s3.ObjectSummary(bucket_name='deutsche-boerse-xetra-pds', key='2021-08-27/2021-08-27_BINS_XETR22.csv'),\n",
       " s3.ObjectSummary(bucket_name='deutsche-boerse-xetra-pds', key='2021-08-27/2021-08-27_BINS_XETR23.csv')]"
      ]
     },
     "metadata": {},
     "execution_count": 58
    }
   ],
   "metadata": {
    "scrolled": true
   }
  },
  {
   "cell_type": "code",
   "execution_count": 59,
   "source": [
    "def csv_to_df(filename):\n",
    "    csv_obj = bucket.Object(key=filename).get().get(\"Body\").read().decode('utf-8')\n",
    "    data = StringIO(csv_obj)\n",
    "    df = pd.read_csv(data,delimiter=\",\")\n",
    "    return df\n",
    "df_all = pd.concat([csv_to_df(obj.key) for obj in objects], ignore_index = True)"
   ],
   "outputs": [],
   "metadata": {}
  },
  {
   "cell_type": "code",
   "execution_count": 60,
   "source": [
    "df_all = df_all.loc[:,columns]"
   ],
   "outputs": [],
   "metadata": {}
  },
  {
   "cell_type": "code",
   "execution_count": 61,
   "source": [
    "df_all.dropna(inplace=True)\n",
    "df_all.shape"
   ],
   "outputs": [
    {
     "output_type": "execute_result",
     "data": {
      "text/plain": [
       "(257879, 8)"
      ]
     },
     "metadata": {},
     "execution_count": 61
    }
   ],
   "metadata": {}
  },
  {
   "cell_type": "markdown",
   "source": [
    "## Get opening price per ISIN and day"
   ],
   "metadata": {}
  },
  {
   "cell_type": "code",
   "execution_count": 62,
   "source": [
    "df_all['opening_price'] = df_all.sort_values(by = \"Time\").groupby(['ISIN','Date'])['StartPrice'].transform('first')"
   ],
   "outputs": [],
   "metadata": {}
  },
  {
   "cell_type": "markdown",
   "source": [
    "## Closing Price per ISIN and day"
   ],
   "metadata": {}
  },
  {
   "cell_type": "code",
   "execution_count": 63,
   "source": [
    "df_all['closing_price'] = df_all.sort_values(by = \"Time\").groupby(['ISIN','Date'])['EndPrice'].transform('last')"
   ],
   "outputs": [],
   "metadata": {}
  },
  {
   "cell_type": "markdown",
   "source": [
    "## Aggregations"
   ],
   "metadata": {}
  },
  {
   "cell_type": "code",
   "execution_count": 64,
   "source": [
    "df_all = df_all.groupby(['ISIN','Date'], as_index = False).agg(opening_price_eur=('opening_price','min'),closing_price_eur = ('closing_price','min'),minimum_price_eur=('MinPrice','min'),maximum_price_eur=('MaxPrice','max'),daily_traded_volume=('TradedVolume','sum'))"
   ],
   "outputs": [],
   "metadata": {}
  },
  {
   "cell_type": "markdown",
   "source": [
    "## Percent Change Prev Closing"
   ],
   "metadata": {}
  },
  {
   "cell_type": "code",
   "execution_count": 65,
   "source": [
    "df_all['prev_closing_price'] = df_all.sort_values(by=['Date']).groupby(['ISIN'])['closing_price_eur'].shift(1)"
   ],
   "outputs": [],
   "metadata": {}
  },
  {
   "cell_type": "code",
   "execution_count": 66,
   "source": [
    "df_all['change_prev_closing_%'] = (df_all['closing_price_eur'] - df_all['prev_closing_price']) / df_all['prev_closing_price'] * 100"
   ],
   "outputs": [],
   "metadata": {}
  },
  {
   "cell_type": "code",
   "execution_count": 67,
   "source": [
    "df_all.drop(columns = ['prev_closing_price'],inplace = True)"
   ],
   "outputs": [],
   "metadata": {}
  },
  {
   "cell_type": "code",
   "execution_count": 68,
   "source": [
    "df_all = df_all.round(decimals = 2)\n"
   ],
   "outputs": [],
   "metadata": {}
  },
  {
   "cell_type": "code",
   "execution_count": 69,
   "source": [
    "df_all = df_all[df_all.Date >= arg_date]"
   ],
   "outputs": [],
   "metadata": {}
  },
  {
   "cell_type": "markdown",
   "source": [
    "## Write to S3"
   ],
   "metadata": {}
  },
  {
   "cell_type": "code",
   "execution_count": 70,
   "source": [
    "out_buffer = BytesIO()\n",
    "df_all.to_parquet(out_buffer,index=False)\n",
    "bucket_target = s3.Bucket(trg_bucket)\n",
    "bucket_target.put_object(Body=out_buffer.getvalue(), Key = key)"
   ],
   "outputs": [
    {
     "output_type": "execute_result",
     "data": {
      "text/plain": [
       "s3.Object(bucket_name='xetra-daily', key='xetra_daily_report20210829_094217.parquet')"
      ]
     },
     "metadata": {},
     "execution_count": 70
    }
   ],
   "metadata": {}
  },
  {
   "cell_type": "markdown",
   "source": [
    "## Reading the uploaded file"
   ],
   "metadata": {}
  },
  {
   "cell_type": "code",
   "execution_count": 71,
   "source": [
    "for obj in bucket_target.objects.all():\n",
    "    print(obj.key)"
   ],
   "outputs": [
    {
     "output_type": "stream",
     "name": "stdout",
     "text": [
      "xetra_daily_report20210829_080542.parquet\n",
      "xetra_daily_report20210829_094217.parquet\n"
     ]
    }
   ],
   "metadata": {}
  },
  {
   "cell_type": "code",
   "execution_count": 74,
   "source": [
    "prq_obj = bucket_target.Object(key=\"xetra_daily_report20210829_094217.parquet\").get().get(\"Body\").read()\n",
    "data = BytesIO(prq_obj)\n",
    "df_report = pd.read_parquet(data)"
   ],
   "outputs": [],
   "metadata": {}
  },
  {
   "cell_type": "code",
   "execution_count": 75,
   "source": [
    "df_report"
   ],
   "outputs": [
    {
     "output_type": "execute_result",
     "data": {
      "text/plain": [
       "              ISIN        Date  opening_price_eur  closing_price_eur  \\\n",
       "0     AT00000FACC2  2021-08-26               8.86               8.59   \n",
       "1     AT00000FACC2  2021-08-27               8.65               8.63   \n",
       "2     AT0000606306  2021-08-26              20.58              20.42   \n",
       "3     AT0000606306  2021-08-27              20.36              20.34   \n",
       "4     AT0000609607  2021-08-26              15.90              16.28   \n",
       "...            ...         ...                ...                ...   \n",
       "6119  XS2284324667  2021-08-27              29.73              29.91   \n",
       "6120  XS2314659447  2021-08-26               7.90               7.91   \n",
       "6121  XS2314659447  2021-08-27               7.92               7.98   \n",
       "6122  XS2314660700  2021-08-26              15.65              15.90   \n",
       "6123  XS2314660700  2021-08-27              15.94              15.98   \n",
       "\n",
       "      minimum_price_eur  maximum_price_eur  daily_traded_volume  \\\n",
       "0                  8.59               8.86                 1920   \n",
       "1                  8.51               8.65                  613   \n",
       "2                 20.38              20.58                  828   \n",
       "3                 20.24              20.46                  583   \n",
       "4                 15.90              16.28                  540   \n",
       "...                 ...                ...                  ...   \n",
       "6119              29.71              29.96                 2335   \n",
       "6120               7.90               7.91                    0   \n",
       "6121               7.92               7.98                    0   \n",
       "6122              15.65              15.90                    0   \n",
       "6123              15.73              15.98                    0   \n",
       "\n",
       "      change_prev_closing_%  \n",
       "0                     -2.61  \n",
       "1                      0.47  \n",
       "2                     -0.68  \n",
       "3                     -0.39  \n",
       "4                      2.78  \n",
       "...                     ...  \n",
       "6119                   1.71  \n",
       "6120                    NaN  \n",
       "6121                   0.94  \n",
       "6122                    NaN  \n",
       "6123                   0.53  \n",
       "\n",
       "[6124 rows x 8 columns]"
      ],
      "text/html": [
       "<div>\n",
       "<style scoped>\n",
       "    .dataframe tbody tr th:only-of-type {\n",
       "        vertical-align: middle;\n",
       "    }\n",
       "\n",
       "    .dataframe tbody tr th {\n",
       "        vertical-align: top;\n",
       "    }\n",
       "\n",
       "    .dataframe thead th {\n",
       "        text-align: right;\n",
       "    }\n",
       "</style>\n",
       "<table border=\"1\" class=\"dataframe\">\n",
       "  <thead>\n",
       "    <tr style=\"text-align: right;\">\n",
       "      <th></th>\n",
       "      <th>ISIN</th>\n",
       "      <th>Date</th>\n",
       "      <th>opening_price_eur</th>\n",
       "      <th>closing_price_eur</th>\n",
       "      <th>minimum_price_eur</th>\n",
       "      <th>maximum_price_eur</th>\n",
       "      <th>daily_traded_volume</th>\n",
       "      <th>change_prev_closing_%</th>\n",
       "    </tr>\n",
       "  </thead>\n",
       "  <tbody>\n",
       "    <tr>\n",
       "      <th>0</th>\n",
       "      <td>AT00000FACC2</td>\n",
       "      <td>2021-08-26</td>\n",
       "      <td>8.86</td>\n",
       "      <td>8.59</td>\n",
       "      <td>8.59</td>\n",
       "      <td>8.86</td>\n",
       "      <td>1920</td>\n",
       "      <td>-2.61</td>\n",
       "    </tr>\n",
       "    <tr>\n",
       "      <th>1</th>\n",
       "      <td>AT00000FACC2</td>\n",
       "      <td>2021-08-27</td>\n",
       "      <td>8.65</td>\n",
       "      <td>8.63</td>\n",
       "      <td>8.51</td>\n",
       "      <td>8.65</td>\n",
       "      <td>613</td>\n",
       "      <td>0.47</td>\n",
       "    </tr>\n",
       "    <tr>\n",
       "      <th>2</th>\n",
       "      <td>AT0000606306</td>\n",
       "      <td>2021-08-26</td>\n",
       "      <td>20.58</td>\n",
       "      <td>20.42</td>\n",
       "      <td>20.38</td>\n",
       "      <td>20.58</td>\n",
       "      <td>828</td>\n",
       "      <td>-0.68</td>\n",
       "    </tr>\n",
       "    <tr>\n",
       "      <th>3</th>\n",
       "      <td>AT0000606306</td>\n",
       "      <td>2021-08-27</td>\n",
       "      <td>20.36</td>\n",
       "      <td>20.34</td>\n",
       "      <td>20.24</td>\n",
       "      <td>20.46</td>\n",
       "      <td>583</td>\n",
       "      <td>-0.39</td>\n",
       "    </tr>\n",
       "    <tr>\n",
       "      <th>4</th>\n",
       "      <td>AT0000609607</td>\n",
       "      <td>2021-08-26</td>\n",
       "      <td>15.90</td>\n",
       "      <td>16.28</td>\n",
       "      <td>15.90</td>\n",
       "      <td>16.28</td>\n",
       "      <td>540</td>\n",
       "      <td>2.78</td>\n",
       "    </tr>\n",
       "    <tr>\n",
       "      <th>...</th>\n",
       "      <td>...</td>\n",
       "      <td>...</td>\n",
       "      <td>...</td>\n",
       "      <td>...</td>\n",
       "      <td>...</td>\n",
       "      <td>...</td>\n",
       "      <td>...</td>\n",
       "      <td>...</td>\n",
       "    </tr>\n",
       "    <tr>\n",
       "      <th>6119</th>\n",
       "      <td>XS2284324667</td>\n",
       "      <td>2021-08-27</td>\n",
       "      <td>29.73</td>\n",
       "      <td>29.91</td>\n",
       "      <td>29.71</td>\n",
       "      <td>29.96</td>\n",
       "      <td>2335</td>\n",
       "      <td>1.71</td>\n",
       "    </tr>\n",
       "    <tr>\n",
       "      <th>6120</th>\n",
       "      <td>XS2314659447</td>\n",
       "      <td>2021-08-26</td>\n",
       "      <td>7.90</td>\n",
       "      <td>7.91</td>\n",
       "      <td>7.90</td>\n",
       "      <td>7.91</td>\n",
       "      <td>0</td>\n",
       "      <td>NaN</td>\n",
       "    </tr>\n",
       "    <tr>\n",
       "      <th>6121</th>\n",
       "      <td>XS2314659447</td>\n",
       "      <td>2021-08-27</td>\n",
       "      <td>7.92</td>\n",
       "      <td>7.98</td>\n",
       "      <td>7.92</td>\n",
       "      <td>7.98</td>\n",
       "      <td>0</td>\n",
       "      <td>0.94</td>\n",
       "    </tr>\n",
       "    <tr>\n",
       "      <th>6122</th>\n",
       "      <td>XS2314660700</td>\n",
       "      <td>2021-08-26</td>\n",
       "      <td>15.65</td>\n",
       "      <td>15.90</td>\n",
       "      <td>15.65</td>\n",
       "      <td>15.90</td>\n",
       "      <td>0</td>\n",
       "      <td>NaN</td>\n",
       "    </tr>\n",
       "    <tr>\n",
       "      <th>6123</th>\n",
       "      <td>XS2314660700</td>\n",
       "      <td>2021-08-27</td>\n",
       "      <td>15.94</td>\n",
       "      <td>15.98</td>\n",
       "      <td>15.73</td>\n",
       "      <td>15.98</td>\n",
       "      <td>0</td>\n",
       "      <td>0.53</td>\n",
       "    </tr>\n",
       "  </tbody>\n",
       "</table>\n",
       "<p>6124 rows × 8 columns</p>\n",
       "</div>"
      ]
     },
     "metadata": {},
     "execution_count": 75
    }
   ],
   "metadata": {}
  },
  {
   "cell_type": "code",
   "execution_count": null,
   "source": [],
   "outputs": [],
   "metadata": {}
  }
 ],
 "metadata": {
  "kernelspec": {
   "name": "python3",
   "display_name": "Python 3.8.10 64-bit ('de_project_01-0w_hujO8': pipenv)"
  },
  "language_info": {
   "codemirror_mode": {
    "name": "ipython",
    "version": 3
   },
   "file_extension": ".py",
   "mimetype": "text/x-python",
   "name": "python",
   "nbconvert_exporter": "python",
   "pygments_lexer": "ipython3",
   "version": "3.8.10"
  },
  "interpreter": {
   "hash": "64a34533c2d1c4b560f8ca762654b419fde777eebca0dac842181965781eeeab"
  }
 },
 "nbformat": 4,
 "nbformat_minor": 5
}